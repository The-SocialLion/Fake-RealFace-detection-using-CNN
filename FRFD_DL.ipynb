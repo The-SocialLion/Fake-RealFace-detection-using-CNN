{
  "nbformat": 4,
  "nbformat_minor": 0,
  "metadata": {
    "colab": {
      "name": "FRFD-DL.ipynb",
      "provenance": [],
      "toc_visible": true
    },
    "kernelspec": {
      "name": "python3",
      "display_name": "Python 3"
    },
    "language_info": {
      "name": "python"
    }
  },
  "cells": [
    {
      "cell_type": "markdown",
      "metadata": {
        "id": "n4pt_qpLEwUY"
      },
      "source": [
        "#***Fake or Real Face detection using CNN***"
      ]
    },
    {
      "cell_type": "code",
      "metadata": {
        "id": "DypLQlPPEDvl"
      },
      "source": [
        "from tensorflow.keras.models import Sequential\n",
        "from tensorflow.keras.layers import Conv2D\n",
        "from tensorflow.keras.layers import MaxPooling2D\n",
        "from tensorflow.keras.layers import Flatten\n",
        "from tensorflow.keras.layers import Dense\n",
        "from tensorflow.keras.preprocessing.image import ImageDataGenerator\n",
        "import numpy as np\n",
        "import pandas as  pd\n",
        "import matplotlib.pyplot as plt\n",
        "import zipfile"
      ],
      "execution_count": 33,
      "outputs": []
    },
    {
      "cell_type": "code",
      "metadata": {
        "id": "veOmLwtJTEnu"
      },
      "source": [
        "zip=zipfile.ZipFile('data.zip')\n",
        "zip.extractall()"
      ],
      "execution_count": 34,
      "outputs": []
    },
    {
      "cell_type": "code",
      "metadata": {
        "id": "EUrOWsttUbie"
      },
      "source": [
        "model=Sequential()\n",
        "model.add(Conv2D(32,(3,3),input_shape = (64,64,3),activation = 'relu'))\n",
        "model.add(MaxPooling2D(pool_size=(2,2)))\n",
        "model.add(Flatten())\n",
        "model.add(Dense(units=2500,activation='relu'))\n",
        "model.add(Dense(units=1,activation='sigmoid'))"
      ],
      "execution_count": 35,
      "outputs": []
    },
    {
      "cell_type": "code",
      "metadata": {
        "id": "q2CaBk_cUjoj"
      },
      "source": [
        "model.compile(optimizer='adam',loss='binary_crossentropy',metrics=['accuracy'])# optimising model"
      ],
      "execution_count": 36,
      "outputs": []
    },
    {
      "cell_type": "code",
      "metadata": {
        "id": "hEpwOwHtFTFc"
      },
      "source": [
        "train_datagen=ImageDataGenerator(rescale=1./255,shear_range=0.2,zoom_range=0.2,horizontal_flip=True)\n",
        "val_datagen=ImageDataGenerator(rescale=1./255)"
      ],
      "execution_count": 37,
      "outputs": []
    },
    {
      "cell_type": "code",
      "metadata": {
        "id": "BHUpY55WUrwk",
        "colab": {
          "base_uri": "https://localhost:8080/"
        },
        "outputId": "d4f66413-ae00-40a4-996b-0037f15adb61"
      },
      "source": [
        "training_set=train_datagen.flow_from_directory('data/train',target_size=(64,64),batch_size=100,class_mode='binary')\n",
        "val_set=val_datagen.flow_from_directory('data/valid',target_size=(64,64),batch_size=100,class_mode='binary')"
      ],
      "execution_count": 44,
      "outputs": [
        {
          "output_type": "stream",
          "text": [
            "Found 2041 images belonging to 2 classes.\n",
            "Found 2041 images belonging to 2 classes.\n"
          ],
          "name": "stdout"
        }
      ]
    },
    {
      "cell_type": "code",
      "metadata": {
        "id": "rtoCeirZFTLI",
        "colab": {
          "base_uri": "https://localhost:8080/"
        },
        "outputId": "7f414e9a-baa2-486c-be53-9adc501e011e"
      },
      "source": [
        "history=model.fit(training_set,steps_per_epoch=15,epochs=30,validation_data=val_set,validation_steps=2)\n",
        "# saving the model\n",
        "model.save('FRFD.h5')"
      ],
      "execution_count": 45,
      "outputs": [
        {
          "output_type": "stream",
          "text": [
            "Epoch 1/30\n",
            "15/15 [==============================] - 42s 3s/step - loss: 0.6488 - accuracy: 0.6135 - val_loss: 0.6553 - val_accuracy: 0.6300\n",
            "Epoch 2/30\n",
            "15/15 [==============================] - 42s 3s/step - loss: 0.6412 - accuracy: 0.6333 - val_loss: 0.6163 - val_accuracy: 0.6500\n",
            "Epoch 3/30\n",
            "15/15 [==============================] - 42s 3s/step - loss: 0.6342 - accuracy: 0.6500 - val_loss: 0.6711 - val_accuracy: 0.5900\n",
            "Epoch 4/30\n",
            "15/15 [==============================] - 42s 3s/step - loss: 0.6228 - accuracy: 0.6420 - val_loss: 0.6179 - val_accuracy: 0.6600\n",
            "Epoch 5/30\n",
            "15/15 [==============================] - 42s 3s/step - loss: 0.6270 - accuracy: 0.6360 - val_loss: 0.6098 - val_accuracy: 0.6550\n",
            "Epoch 6/30\n",
            "15/15 [==============================] - 41s 3s/step - loss: 0.6213 - accuracy: 0.6495 - val_loss: 0.6817 - val_accuracy: 0.5700\n",
            "Epoch 7/30\n",
            "15/15 [==============================] - 41s 3s/step - loss: 0.6140 - accuracy: 0.6697 - val_loss: 0.5554 - val_accuracy: 0.6950\n",
            "Epoch 8/30\n",
            "15/15 [==============================] - 42s 3s/step - loss: 0.6011 - accuracy: 0.6704 - val_loss: 0.5769 - val_accuracy: 0.6850\n",
            "Epoch 9/30\n",
            "15/15 [==============================] - 41s 3s/step - loss: 0.5913 - accuracy: 0.6863 - val_loss: 0.6242 - val_accuracy: 0.6800\n",
            "Epoch 10/30\n",
            "15/15 [==============================] - 41s 3s/step - loss: 0.6229 - accuracy: 0.6482 - val_loss: 0.5676 - val_accuracy: 0.7050\n",
            "Epoch 11/30\n",
            "15/15 [==============================] - 41s 3s/step - loss: 0.6055 - accuracy: 0.6693 - val_loss: 0.5841 - val_accuracy: 0.6800\n",
            "Epoch 12/30\n",
            "15/15 [==============================] - 41s 3s/step - loss: 0.5948 - accuracy: 0.6759 - val_loss: 0.5567 - val_accuracy: 0.7050\n",
            "Epoch 13/30\n",
            "15/15 [==============================] - 41s 3s/step - loss: 0.5815 - accuracy: 0.7009 - val_loss: 0.5150 - val_accuracy: 0.7550\n",
            "Epoch 14/30\n",
            "15/15 [==============================] - 41s 3s/step - loss: 0.5754 - accuracy: 0.7037 - val_loss: 0.5176 - val_accuracy: 0.7200\n",
            "Epoch 15/30\n",
            "15/15 [==============================] - 41s 3s/step - loss: 0.5829 - accuracy: 0.6780 - val_loss: 0.5379 - val_accuracy: 0.7200\n",
            "Epoch 16/30\n",
            "15/15 [==============================] - 41s 3s/step - loss: 0.5750 - accuracy: 0.6849 - val_loss: 0.5600 - val_accuracy: 0.7450\n",
            "Epoch 17/30\n",
            "15/15 [==============================] - 40s 3s/step - loss: 0.5506 - accuracy: 0.7120 - val_loss: 0.5177 - val_accuracy: 0.7050\n",
            "Epoch 18/30\n",
            "15/15 [==============================] - 41s 3s/step - loss: 0.5550 - accuracy: 0.7180 - val_loss: 0.5138 - val_accuracy: 0.7500\n",
            "Epoch 19/30\n",
            "15/15 [==============================] - 42s 3s/step - loss: 0.5487 - accuracy: 0.7113 - val_loss: 0.5283 - val_accuracy: 0.7250\n",
            "Epoch 20/30\n",
            "15/15 [==============================] - 41s 3s/step - loss: 0.5304 - accuracy: 0.7259 - val_loss: 0.5261 - val_accuracy: 0.7350\n",
            "Epoch 21/30\n",
            "15/15 [==============================] - 42s 3s/step - loss: 0.5353 - accuracy: 0.7267 - val_loss: 0.4899 - val_accuracy: 0.7450\n",
            "Epoch 22/30\n",
            "15/15 [==============================] - 41s 3s/step - loss: 0.5259 - accuracy: 0.7363 - val_loss: 0.5367 - val_accuracy: 0.7050\n",
            "Epoch 23/30\n",
            "15/15 [==============================] - 42s 3s/step - loss: 0.5153 - accuracy: 0.7340 - val_loss: 0.4414 - val_accuracy: 0.7850\n",
            "Epoch 24/30\n",
            "15/15 [==============================] - 41s 3s/step - loss: 0.5207 - accuracy: 0.7300 - val_loss: 0.4536 - val_accuracy: 0.7700\n",
            "Epoch 25/30\n",
            "15/15 [==============================] - 40s 3s/step - loss: 0.5050 - accuracy: 0.7405 - val_loss: 0.4546 - val_accuracy: 0.7800\n",
            "Epoch 26/30\n",
            "15/15 [==============================] - 41s 3s/step - loss: 0.4850 - accuracy: 0.7600 - val_loss: 0.4781 - val_accuracy: 0.7750\n",
            "Epoch 27/30\n",
            "15/15 [==============================] - 42s 3s/step - loss: 0.4961 - accuracy: 0.7527 - val_loss: 0.4275 - val_accuracy: 0.7950\n",
            "Epoch 28/30\n",
            "15/15 [==============================] - 41s 3s/step - loss: 0.4888 - accuracy: 0.7613 - val_loss: 0.4104 - val_accuracy: 0.8250\n",
            "Epoch 29/30\n",
            "15/15 [==============================] - 41s 3s/step - loss: 0.4428 - accuracy: 0.8036 - val_loss: 0.4371 - val_accuracy: 0.7850\n",
            "Epoch 30/30\n",
            "15/15 [==============================] - 42s 3s/step - loss: 0.4388 - accuracy: 0.7840 - val_loss: 0.3992 - val_accuracy: 0.7850\n"
          ],
          "name": "stdout"
        }
      ]
    },
    {
      "cell_type": "code",
      "metadata": {
        "id": "n1tdSlsoFanB",
        "colab": {
          "base_uri": "https://localhost:8080/",
          "height": 295
        },
        "outputId": "0cb67082-1992-4446-a1c8-c7924f8fe794"
      },
      "source": [
        "plt.figure(0)\n",
        "plt.plot(history.history['accuracy'], label='training accuracy')\n",
        "plt.plot(history.history['val_accuracy'], label='val accuracy')\n",
        "plt.title('Accuracy')\n",
        "plt.xlabel('epochs')\n",
        "plt.ylabel('accuracy')\n",
        "plt.legend()\n",
        "plt.savefig('Accuracy.png')"
      ],
      "execution_count": 46,
      "outputs": [
        {
          "output_type": "display_data",
          "data": {
            "image/png": "[encoded data removed]",
            "text/plain": [
              "<Figure size 432x288 with 1 Axes>"
            ]
          },
          "metadata": {
            "tags": [],
            "needs_background": "light"
          }
        }
      ]
    },
    {
      "cell_type": "code",
      "metadata": {
        "id": "BqbQ787_FPIB",
        "colab": {
          "base_uri": "https://localhost:8080/",
          "height": 313
        },
        "outputId": "a4642cca-24d9-410f-ac6b-5cb1560d3e92"
      },
      "source": [
        "plt.figure(1)\n",
        "plt.plot(history.history['loss'], label='training loss')\n",
        "plt.plot(history.history['val_loss'], label='val loss')\n",
        "plt.title('Loss')\n",
        "plt.xlabel('epochs')\n",
        "plt.ylabel('loss')\n",
        "plt.legend()\n",
        "plt.savefig('Loss.png')\n",
        "print(\"Saved Model & Graph to disk\")\n"
      ],
      "execution_count": 47,
      "outputs": [
        {
          "output_type": "stream",
          "text": [
            "Saved Model & Graph to disk\n"
          ],
          "name": "stdout"
        },
        {
          "output_type": "display_data",
          "data": {
            "image/png": "[encoded data removed]",
            "text/plain": [
              "<Figure size 432x288 with 1 Axes>"
            ]
          },
          "metadata": {
            "tags": [],
            "needs_background": "light"
          }
        }
      ]
    },
    {
      "cell_type": "markdown",
      "metadata": {
        "id": "PIWtW4v0F0AP"
      },
      "source": [
        "#***Testing the model***"
      ]
    },
    {
      "cell_type": "code",
      "metadata": {
        "id": "127mhqL_F3ZL"
      },
      "source": [
        "from tensorflow.keras.models import model_from_json # used to import model\n",
        "from tensorflow.keras.models import load_model\n",
        "from tensorflow.keras.preprocessing import image# used for preproccesing\n",
        "import os"
      ],
      "execution_count": 31,
      "outputs": []
    },
    {
      "cell_type": "code",
      "metadata": {
        "id": "wkAyUmr9TupE"
      },
      "source": [
        "zip=zipfile.ZipFile('test.zip')\n",
        "zip.extractall()"
      ],
      "execution_count": null,
      "outputs": []
    },
    {
      "cell_type": "code",
      "metadata": {
        "id": "_V_0ohKZGARf",
        "colab": {
          "base_uri": "https://localhost:8080/"
        },
        "outputId": "2e8bcd29-d185-429a-cb40-9fa15c3793ad"
      },
      "source": [
        "model=load_model('FRFD.h5')\n",
        "print(\"loaded model from disk\")"
      ],
      "execution_count": 48,
      "outputs": [
        {
          "output_type": "stream",
          "text": [
            "loaded model from disk\n"
          ],
          "name": "stdout"
        }
      ]
    },
    {
      "cell_type": "code",
      "metadata": {
        "id": "8r6tp6-wGFLG"
      },
      "source": [
        "def classify(img_file):\n",
        "    img_name=img_file\n",
        "    test_image=image.load_img(img_name,target_size=(64,64))\n",
        "    test_image=image.img_to_array(test_image)\n",
        "    test_image=np.expand_dims(test_image,axis=0)\n",
        "    result=model.predict(test_image)\n",
        "\n",
        "    if result[0][0]==1:\n",
        "        prediction='Fake Face'\n",
        "        print(\"\\n In this{0}the face is{1}!\".format(img_name,prediction))   \n",
        "    else:\n",
        "        prediction='Real Face'\n",
        "        print(\"\\n In this{0}the face is{1}!\".format(img_name,prediction))"
      ],
      "execution_count": 49,
      "outputs": []
    },
    {
      "cell_type": "code",
      "metadata": {
        "id": "9caCvogaT1i5"
      },
      "source": [
        "cur_path = os.getcwd()\n",
        "path = os.path.join(cur_path,'test/')"
      ],
      "execution_count": 50,
      "outputs": []
    },
    {
      "cell_type": "code",
      "metadata": {
        "colab": {
          "base_uri": "https://localhost:8080/"
        },
        "id": "VVOFgfxIVZJO",
        "outputId": "63645ec9-057f-4667-b4d0-d7255fb665e1"
      },
      "source": [
        "files=[]\n",
        "# r=root,d=directories,f=files\n",
        "for r,d,f in os.walk(path):\n",
        "    for file in f:\n",
        "        if '.jpeg' or '.jpg' or '.png' or '.JPEG' in file:\n",
        "            files.append(os.path.join(r,file))\n",
        "for f in files: \n",
        "    classify(f)"
      ],
      "execution_count": 51,
      "outputs": [
        {
          "output_type": "stream",
          "text": [
            "\n",
            " In this/content/test/2.jpgthe face isFake Face!\n",
            "\n",
            " In this/content/test/4.jpgthe face isReal Face!\n",
            "\n",
            " In this/content/test/0.jpgthe face isReal Face!\n",
            "\n",
            " In this/content/test/5.jpgthe face isFake Face!\n",
            "\n",
            " In this/content/test/3.jpgthe face isFake Face!\n",
            "\n",
            " In this/content/test/1.jpgthe face isFake Face!\n"
          ],
          "name": "stdout"
        }
      ]
    }
  ]
}