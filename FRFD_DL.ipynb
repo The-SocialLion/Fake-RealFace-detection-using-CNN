{
  "nbformat": 4,
  "nbformat_minor": 0,
  "metadata": {
    "colab": {
      "name": "FRFD-DL.ipynb",
      "provenance": [],
      "toc_visible": true
    },
    "kernelspec": {
      "name": "python3",
      "display_name": "Python 3"
    },
    "language_info": {
      "name": "python"
    }
  },
  "cells": [
    {
      "cell_type": "markdown",
      "metadata": {
        "id": "n4pt_qpLEwUY"
      },
      "source": [
        "#***Fake or Real Face detection using CNN***"
      ]
    },
    {
      "cell_type": "code",
      "metadata": {
        "id": "DypLQlPPEDvl"
      },
      "source": [
        "from tensorflow.keras.models import Sequential\n",
        "from tensorflow.keras.layers import Conv2D\n",
        "from tensorflow.keras.layers import MaxPooling2D\n",
        "from tensorflow.keras.layers import Flatten\n",
        "from tensorflow.keras.layers import Dense\n",
        "from tensorflow.keras.preprocessing.image import ImageDataGenerator\n",
        "import numpy as np\n",
        "import pandas as  pd\n",
        "import matplotlib.pyplot as plt\n",
        "import zipfile"
      ],
      "execution_count": 25,
      "outputs": []
    },
    {
      "cell_type": "code",
      "metadata": {
        "id": "veOmLwtJTEnu"
      },
      "source": [
        "zip=zipfile.ZipFile('data.zip')\n",
        "zip.extractall()"
      ],
      "execution_count": 5,
      "outputs": []
    },
    {
      "cell_type": "code",
      "metadata": {
        "id": "EUrOWsttUbie"
      },
      "source": [
        "model=Sequential()\n",
        "model.add(Conv2D(32,(3,3),input_shape = (64,64,3),activation = 'relu'))\n",
        "model.add(MaxPooling2D(pool_size=(2,2)))\n",
        "model.add(Flatten())\n",
        "model.add(Dense(units=2500,activation='relu'))\n",
        "model.add(Dense(units=1,activation='sigmoid'))"
      ],
      "execution_count": 34,
      "outputs": []
    },
    {
      "cell_type": "code",
      "metadata": {
        "id": "q2CaBk_cUjoj"
      },
      "source": [
        "model.compile(optimizer='adam',loss='binary_crossentropy',metrics=['accuracy'])# optimising model"
      ],
      "execution_count": 35,
      "outputs": []
    },
    {
      "cell_type": "code",
      "metadata": {
        "id": "hEpwOwHtFTFc"
      },
      "source": [
        "train_datagen=ImageDataGenerator(rescale=1./255,shear_range=0.2,zoom_range=0.2,horizontal_flip=True)\n",
        "val_datagen=ImageDataGenerator(rescale=1./255)"
      ],
      "execution_count": 36,
      "outputs": []
    },
    {
      "cell_type": "code",
      "metadata": {
        "id": "BHUpY55WUrwk",
        "colab": {
          "base_uri": "https://localhost:8080/"
        },
        "outputId": "77a2999a-a124-4717-d4f9-e1b5f0519282"
      },
      "source": [
        "training_set=train_datagen.flow_from_directory('data/train',target_size=(64,64),batch_size=100,class_mode='binary')\n",
        "val_set=val_datagen.flow_from_directory('data/valid',target_size=(64,64),batch_size=100,class_mode='binary')"
      ],
      "execution_count": 37,
      "outputs": [
        {
          "output_type": "stream",
          "text": [
            "Found 2041 images belonging to 2 classes.\n",
            "Found 2041 images belonging to 2 classes.\n"
          ],
          "name": "stdout"
        }
      ]
    },
    {
      "cell_type": "code",
      "metadata": {
        "id": "rtoCeirZFTLI",
        "colab": {
          "base_uri": "https://localhost:8080/"
        },
        "outputId": "6a186622-e2ab-4ca9-9b54-1a9ea5c99370"
      },
      "source": [
        "history=model.fit(training_set,steps_per_epoch=15,epochs=100,validation_data=val_set,validation_steps=2)\n",
        "# saving the model\n",
        "model.save('FRFD.h5')"
      ],
      "execution_count": 47,
      "outputs": [
        {
          "output_type": "stream",
          "text": [
            "Epoch 1/100\n",
            "15/15 [==============================] - 39s 3s/step - loss: 0.2979 - accuracy: 0.8733 - val_loss: 0.1858 - val_accuracy: 0.9350\n",
            "Epoch 2/100\n",
            "15/15 [==============================] - 36s 2s/step - loss: 0.3007 - accuracy: 0.8779 - val_loss: 0.1661 - val_accuracy: 0.9550\n",
            "Epoch 3/100\n",
            "15/15 [==============================] - 38s 2s/step - loss: 0.2783 - accuracy: 0.8867 - val_loss: 0.2224 - val_accuracy: 0.9000\n",
            "Epoch 4/100\n",
            "15/15 [==============================] - 37s 2s/step - loss: 0.2649 - accuracy: 0.8873 - val_loss: 0.2079 - val_accuracy: 0.9250\n",
            "Epoch 5/100\n",
            "15/15 [==============================] - 36s 2s/step - loss: 0.2750 - accuracy: 0.8834 - val_loss: 0.2154 - val_accuracy: 0.9250\n",
            "Epoch 6/100\n",
            "15/15 [==============================] - 35s 2s/step - loss: 0.2915 - accuracy: 0.8820 - val_loss: 0.1464 - val_accuracy: 0.9600\n",
            "Epoch 7/100\n",
            "15/15 [==============================] - 36s 2s/step - loss: 0.2491 - accuracy: 0.9053 - val_loss: 0.1311 - val_accuracy: 0.9500\n",
            "Epoch 8/100\n",
            "15/15 [==============================] - 36s 2s/step - loss: 0.2444 - accuracy: 0.9093 - val_loss: 0.1826 - val_accuracy: 0.9400\n",
            "Epoch 9/100\n",
            "15/15 [==============================] - 35s 2s/step - loss: 0.2382 - accuracy: 0.9126 - val_loss: 0.1731 - val_accuracy: 0.9400\n",
            "Epoch 10/100\n",
            "15/15 [==============================] - 36s 2s/step - loss: 0.2714 - accuracy: 0.8959 - val_loss: 0.1832 - val_accuracy: 0.9300\n",
            "Epoch 11/100\n",
            "15/15 [==============================] - 36s 2s/step - loss: 0.2453 - accuracy: 0.9022 - val_loss: 0.1777 - val_accuracy: 0.9350\n",
            "Epoch 12/100\n",
            "15/15 [==============================] - 36s 2s/step - loss: 0.2535 - accuracy: 0.9077 - val_loss: 0.2082 - val_accuracy: 0.9050\n",
            "Epoch 13/100\n",
            "15/15 [==============================] - 37s 2s/step - loss: 0.2156 - accuracy: 0.9153 - val_loss: 0.1101 - val_accuracy: 0.9650\n",
            "Epoch 14/100\n",
            "15/15 [==============================] - 35s 2s/step - loss: 0.2215 - accuracy: 0.9119 - val_loss: 0.1338 - val_accuracy: 0.9500\n",
            "Epoch 15/100\n",
            "15/15 [==============================] - 35s 2s/step - loss: 0.2159 - accuracy: 0.9174 - val_loss: 0.1356 - val_accuracy: 0.9550\n",
            "Epoch 16/100\n",
            "15/15 [==============================] - 36s 2s/step - loss: 0.1979 - accuracy: 0.9320 - val_loss: 0.1570 - val_accuracy: 0.9500\n",
            "Epoch 17/100\n",
            "15/15 [==============================] - 37s 2s/step - loss: 0.2020 - accuracy: 0.9237 - val_loss: 0.1135 - val_accuracy: 0.9550\n",
            "Epoch 18/100\n",
            "15/15 [==============================] - 36s 2s/step - loss: 0.1897 - accuracy: 0.9271 - val_loss: 0.1401 - val_accuracy: 0.9650\n",
            "Epoch 19/100\n",
            "15/15 [==============================] - 36s 2s/step - loss: 0.1786 - accuracy: 0.9320 - val_loss: 0.1272 - val_accuracy: 0.9550\n",
            "Epoch 20/100\n",
            "15/15 [==============================] - 35s 2s/step - loss: 0.1729 - accuracy: 0.9473 - val_loss: 0.1562 - val_accuracy: 0.9350\n",
            "Epoch 21/100\n",
            "15/15 [==============================] - 35s 2s/step - loss: 0.1693 - accuracy: 0.9375 - val_loss: 0.0933 - val_accuracy: 0.9700\n",
            "Epoch 22/100\n",
            "15/15 [==============================] - 35s 2s/step - loss: 0.1674 - accuracy: 0.9431 - val_loss: 0.0834 - val_accuracy: 0.9850\n",
            "Epoch 23/100\n",
            "15/15 [==============================] - 36s 2s/step - loss: 0.1493 - accuracy: 0.9493 - val_loss: 0.1227 - val_accuracy: 0.9450\n",
            "Epoch 24/100\n",
            "15/15 [==============================] - 36s 2s/step - loss: 0.1539 - accuracy: 0.9445 - val_loss: 0.1287 - val_accuracy: 0.9400\n",
            "Epoch 25/100\n",
            "15/15 [==============================] - 36s 2s/step - loss: 0.1544 - accuracy: 0.9521 - val_loss: 0.0829 - val_accuracy: 0.9700\n",
            "Epoch 26/100\n",
            "15/15 [==============================] - 35s 2s/step - loss: 0.1527 - accuracy: 0.9535 - val_loss: 0.0529 - val_accuracy: 0.9850\n",
            "Epoch 27/100\n",
            "15/15 [==============================] - 35s 2s/step - loss: 0.1521 - accuracy: 0.9438 - val_loss: 0.1148 - val_accuracy: 0.9500\n",
            "Epoch 28/100\n",
            "15/15 [==============================] - 35s 2s/step - loss: 0.1481 - accuracy: 0.9438 - val_loss: 0.0751 - val_accuracy: 0.9850\n",
            "Epoch 29/100\n",
            "15/15 [==============================] - 35s 2s/step - loss: 0.1232 - accuracy: 0.9639 - val_loss: 0.0765 - val_accuracy: 0.9750\n",
            "Epoch 30/100\n",
            "15/15 [==============================] - 37s 2s/step - loss: 0.1107 - accuracy: 0.9693 - val_loss: 0.1129 - val_accuracy: 0.9500\n",
            "Epoch 31/100\n",
            "15/15 [==============================] - 36s 2s/step - loss: 0.1374 - accuracy: 0.9480 - val_loss: 0.1168 - val_accuracy: 0.9600\n",
            "Epoch 32/100\n",
            "15/15 [==============================] - 37s 2s/step - loss: 0.1684 - accuracy: 0.9327 - val_loss: 0.1085 - val_accuracy: 0.9600\n",
            "Epoch 33/100\n",
            "15/15 [==============================] - 36s 2s/step - loss: 0.1527 - accuracy: 0.9520 - val_loss: 0.0771 - val_accuracy: 0.9750\n",
            "Epoch 34/100\n",
            "15/15 [==============================] - 35s 2s/step - loss: 0.1292 - accuracy: 0.9618 - val_loss: 0.0860 - val_accuracy: 0.9800\n",
            "Epoch 35/100\n",
            "15/15 [==============================] - 35s 2s/step - loss: 0.1239 - accuracy: 0.9563 - val_loss: 0.0675 - val_accuracy: 0.9650\n",
            "Epoch 36/100\n",
            "15/15 [==============================] - 36s 2s/step - loss: 0.1059 - accuracy: 0.9736 - val_loss: 0.0578 - val_accuracy: 0.9850\n",
            "Epoch 37/100\n",
            "15/15 [==============================] - 37s 2s/step - loss: 0.1010 - accuracy: 0.9667 - val_loss: 0.0960 - val_accuracy: 0.9600\n",
            "Epoch 38/100\n",
            "15/15 [==============================] - 36s 2s/step - loss: 0.1099 - accuracy: 0.9653 - val_loss: 0.0517 - val_accuracy: 0.9900\n",
            "Epoch 39/100\n",
            "15/15 [==============================] - 36s 2s/step - loss: 0.0872 - accuracy: 0.9736 - val_loss: 0.0477 - val_accuracy: 0.9950\n",
            "Epoch 40/100\n",
            "15/15 [==============================] - 36s 2s/step - loss: 0.0977 - accuracy: 0.9693 - val_loss: 0.0528 - val_accuracy: 0.9800\n",
            "Epoch 41/100\n",
            "15/15 [==============================] - 36s 2s/step - loss: 0.0933 - accuracy: 0.9709 - val_loss: 0.0643 - val_accuracy: 0.9850\n",
            "Epoch 42/100\n",
            "15/15 [==============================] - 37s 2s/step - loss: 0.0919 - accuracy: 0.9680 - val_loss: 0.0361 - val_accuracy: 1.0000\n",
            "Epoch 43/100\n",
            "15/15 [==============================] - 37s 2s/step - loss: 0.0930 - accuracy: 0.9747 - val_loss: 0.0334 - val_accuracy: 0.9950\n",
            "Epoch 44/100\n",
            "15/15 [==============================] - 36s 2s/step - loss: 0.1046 - accuracy: 0.9653 - val_loss: 0.0462 - val_accuracy: 0.9900\n",
            "Epoch 45/100\n",
            "15/15 [==============================] - 36s 2s/step - loss: 0.0916 - accuracy: 0.9695 - val_loss: 0.0626 - val_accuracy: 0.9850\n",
            "Epoch 46/100\n",
            "15/15 [==============================] - 36s 2s/step - loss: 0.0798 - accuracy: 0.9764 - val_loss: 0.0442 - val_accuracy: 0.9900\n",
            "Epoch 47/100\n",
            "15/15 [==============================] - 36s 2s/step - loss: 0.0801 - accuracy: 0.9722 - val_loss: 0.0349 - val_accuracy: 0.9950\n",
            "Epoch 48/100\n",
            "15/15 [==============================] - 36s 2s/step - loss: 0.0757 - accuracy: 0.9787 - val_loss: 0.0337 - val_accuracy: 1.0000\n",
            "Epoch 49/100\n",
            "15/15 [==============================] - 36s 2s/step - loss: 0.0874 - accuracy: 0.9695 - val_loss: 0.0356 - val_accuracy: 0.9900\n",
            "Epoch 50/100\n",
            "15/15 [==============================] - 36s 2s/step - loss: 0.0703 - accuracy: 0.9778 - val_loss: 0.0243 - val_accuracy: 0.9950\n",
            "Epoch 51/100\n",
            "15/15 [==============================] - 36s 2s/step - loss: 0.0751 - accuracy: 0.9792 - val_loss: 0.0217 - val_accuracy: 0.9950\n",
            "Epoch 52/100\n",
            "15/15 [==============================] - 36s 2s/step - loss: 0.0700 - accuracy: 0.9840 - val_loss: 0.0174 - val_accuracy: 0.9950\n",
            "Epoch 53/100\n",
            "15/15 [==============================] - 35s 2s/step - loss: 0.0635 - accuracy: 0.9847 - val_loss: 0.0181 - val_accuracy: 0.9950\n",
            "Epoch 54/100\n",
            "15/15 [==============================] - 35s 2s/step - loss: 0.0667 - accuracy: 0.9743 - val_loss: 0.0404 - val_accuracy: 0.9850\n",
            "Epoch 55/100\n",
            "15/15 [==============================] - 35s 2s/step - loss: 0.0748 - accuracy: 0.9757 - val_loss: 0.0285 - val_accuracy: 0.9950\n",
            "Epoch 56/100\n",
            "15/15 [==============================] - 35s 2s/step - loss: 0.0868 - accuracy: 0.9695 - val_loss: 0.0350 - val_accuracy: 0.9900\n",
            "Epoch 57/100\n",
            "15/15 [==============================] - 35s 2s/step - loss: 0.0862 - accuracy: 0.9736 - val_loss: 0.0190 - val_accuracy: 0.9900\n",
            "Epoch 58/100\n",
            "15/15 [==============================] - 35s 2s/step - loss: 0.0896 - accuracy: 0.9688 - val_loss: 0.0330 - val_accuracy: 0.9900\n",
            "Epoch 59/100\n",
            "15/15 [==============================] - 35s 2s/step - loss: 0.0671 - accuracy: 0.9792 - val_loss: 0.0258 - val_accuracy: 0.9950\n",
            "Epoch 60/100\n",
            "15/15 [==============================] - 35s 2s/step - loss: 0.0717 - accuracy: 0.9757 - val_loss: 0.0261 - val_accuracy: 1.0000\n",
            "Epoch 61/100\n",
            "15/15 [==============================] - 35s 2s/step - loss: 0.0736 - accuracy: 0.9771 - val_loss: 0.0923 - val_accuracy: 0.9900\n",
            "Epoch 62/100\n",
            "15/15 [==============================] - 36s 2s/step - loss: 0.0548 - accuracy: 0.9840 - val_loss: 0.0255 - val_accuracy: 0.9900\n",
            "Epoch 63/100\n",
            "15/15 [==============================] - 36s 2s/step - loss: 0.0665 - accuracy: 0.9827 - val_loss: 0.0280 - val_accuracy: 0.9950\n",
            "Epoch 64/100\n",
            "15/15 [==============================] - 36s 2s/step - loss: 0.0703 - accuracy: 0.9799 - val_loss: 0.0455 - val_accuracy: 0.9950\n",
            "Epoch 65/100\n",
            "15/15 [==============================] - 36s 2s/step - loss: 0.0734 - accuracy: 0.9799 - val_loss: 0.0309 - val_accuracy: 0.9900\n",
            "Epoch 66/100\n",
            "15/15 [==============================] - 35s 2s/step - loss: 0.0658 - accuracy: 0.9785 - val_loss: 0.0318 - val_accuracy: 0.9950\n",
            "Epoch 67/100\n",
            "15/15 [==============================] - 36s 2s/step - loss: 0.0585 - accuracy: 0.9887 - val_loss: 0.0330 - val_accuracy: 0.9950\n",
            "Epoch 68/100\n",
            "15/15 [==============================] - 35s 2s/step - loss: 0.0503 - accuracy: 0.9868 - val_loss: 0.0321 - val_accuracy: 0.9850\n",
            "Epoch 69/100\n",
            "15/15 [==============================] - 36s 2s/step - loss: 0.0446 - accuracy: 0.9853 - val_loss: 0.0306 - val_accuracy: 0.9850\n",
            "Epoch 70/100\n",
            "15/15 [==============================] - 36s 2s/step - loss: 0.0587 - accuracy: 0.9806 - val_loss: 0.0241 - val_accuracy: 0.9900\n",
            "Epoch 71/100\n",
            "15/15 [==============================] - 37s 2s/step - loss: 0.0576 - accuracy: 0.9833 - val_loss: 0.0708 - val_accuracy: 0.9800\n",
            "Epoch 72/100\n",
            "15/15 [==============================] - 35s 2s/step - loss: 0.0702 - accuracy: 0.9806 - val_loss: 0.0430 - val_accuracy: 0.9800\n",
            "Epoch 73/100\n",
            "15/15 [==============================] - 36s 2s/step - loss: 0.0830 - accuracy: 0.9713 - val_loss: 0.0252 - val_accuracy: 0.9950\n",
            "Epoch 74/100\n",
            "15/15 [==============================] - 35s 2s/step - loss: 0.0594 - accuracy: 0.9840 - val_loss: 0.0244 - val_accuracy: 0.9950\n",
            "Epoch 75/100\n",
            "15/15 [==============================] - 36s 2s/step - loss: 0.0445 - accuracy: 0.9907 - val_loss: 0.0344 - val_accuracy: 0.9850\n",
            "Epoch 76/100\n",
            "15/15 [==============================] - 36s 2s/step - loss: 0.0371 - accuracy: 0.9903 - val_loss: 0.0114 - val_accuracy: 1.0000\n",
            "Epoch 77/100\n",
            "15/15 [==============================] - 37s 2s/step - loss: 0.0478 - accuracy: 0.9847 - val_loss: 0.0135 - val_accuracy: 1.0000\n",
            "Epoch 78/100\n",
            "15/15 [==============================] - 36s 2s/step - loss: 0.0443 - accuracy: 0.9910 - val_loss: 0.0155 - val_accuracy: 1.0000\n",
            "Epoch 79/100\n",
            "15/15 [==============================] - 35s 2s/step - loss: 0.0464 - accuracy: 0.9861 - val_loss: 0.0398 - val_accuracy: 0.9800\n",
            "Epoch 80/100\n",
            "15/15 [==============================] - 35s 2s/step - loss: 0.0452 - accuracy: 0.9875 - val_loss: 0.0474 - val_accuracy: 0.9950\n",
            "Epoch 81/100\n",
            "15/15 [==============================] - 35s 2s/step - loss: 0.0536 - accuracy: 0.9875 - val_loss: 0.0283 - val_accuracy: 0.9900\n",
            "Epoch 82/100\n",
            "15/15 [==============================] - 35s 2s/step - loss: 0.0462 - accuracy: 0.9854 - val_loss: 0.0174 - val_accuracy: 0.9950\n",
            "Epoch 83/100\n",
            "15/15 [==============================] - 36s 2s/step - loss: 0.0439 - accuracy: 0.9860 - val_loss: 0.0094 - val_accuracy: 1.0000\n",
            "Epoch 84/100\n",
            "15/15 [==============================] - 37s 2s/step - loss: 0.0499 - accuracy: 0.9861 - val_loss: 0.0230 - val_accuracy: 0.9950\n",
            "Epoch 85/100\n",
            "15/15 [==============================] - 37s 2s/step - loss: 0.0514 - accuracy: 0.9860 - val_loss: 0.0156 - val_accuracy: 1.0000\n",
            "Epoch 86/100\n",
            "15/15 [==============================] - 36s 2s/step - loss: 0.0681 - accuracy: 0.9799 - val_loss: 0.0608 - val_accuracy: 0.9800\n",
            "Epoch 87/100\n",
            "15/15 [==============================] - 36s 2s/step - loss: 0.0704 - accuracy: 0.9787 - val_loss: 0.0714 - val_accuracy: 0.9800\n",
            "Epoch 88/100\n",
            "15/15 [==============================] - 36s 2s/step - loss: 0.0514 - accuracy: 0.9880 - val_loss: 0.0295 - val_accuracy: 0.9900\n",
            "Epoch 89/100\n",
            "15/15 [==============================] - 37s 2s/step - loss: 0.0484 - accuracy: 0.9833 - val_loss: 0.0157 - val_accuracy: 0.9950\n",
            "Epoch 90/100\n",
            "15/15 [==============================] - 36s 2s/step - loss: 0.0336 - accuracy: 0.9944 - val_loss: 0.0174 - val_accuracy: 0.9900\n",
            "Epoch 91/100\n",
            "15/15 [==============================] - 36s 2s/step - loss: 0.0313 - accuracy: 0.9910 - val_loss: 0.0195 - val_accuracy: 0.9950\n",
            "Epoch 92/100\n",
            "15/15 [==============================] - 36s 2s/step - loss: 0.0389 - accuracy: 0.9889 - val_loss: 0.0069 - val_accuracy: 1.0000\n",
            "Epoch 93/100\n",
            "15/15 [==============================] - 35s 2s/step - loss: 0.0399 - accuracy: 0.9889 - val_loss: 0.0145 - val_accuracy: 1.0000\n",
            "Epoch 94/100\n",
            "15/15 [==============================] - 35s 2s/step - loss: 0.0433 - accuracy: 0.9907 - val_loss: 0.0262 - val_accuracy: 0.9950\n",
            "Epoch 95/100\n",
            "15/15 [==============================] - 35s 2s/step - loss: 0.0350 - accuracy: 0.9903 - val_loss: 0.0205 - val_accuracy: 0.9950\n",
            "Epoch 96/100\n",
            "15/15 [==============================] - 36s 2s/step - loss: 0.0362 - accuracy: 0.9887 - val_loss: 0.0102 - val_accuracy: 1.0000\n",
            "Epoch 97/100\n",
            "15/15 [==============================] - 36s 2s/step - loss: 0.0301 - accuracy: 0.9917 - val_loss: 0.0132 - val_accuracy: 0.9950\n",
            "Epoch 98/100\n",
            "15/15 [==============================] - 37s 2s/step - loss: 0.0449 - accuracy: 0.9882 - val_loss: 0.0137 - val_accuracy: 1.0000\n",
            "Epoch 99/100\n",
            "15/15 [==============================] - 36s 2s/step - loss: 0.0405 - accuracy: 0.9924 - val_loss: 0.0103 - val_accuracy: 1.0000\n",
            "Epoch 100/100\n",
            "15/15 [==============================] - 35s 2s/step - loss: 0.0318 - accuracy: 0.9903 - val_loss: 0.0137 - val_accuracy: 0.9950\n"
          ],
          "name": "stdout"
        }
      ]
    },
    {
      "cell_type": "code",
      "metadata": {
        "colab": {
          "base_uri": "https://localhost:8080/"
        },
        "id": "lwyzRSl-0iKm",
        "outputId": "59c20c9f-09e4-4ddc-d968-f327b52e127f"
      },
      "source": [
        "print(\"Accuracy of the model is --> \" , model.evaluate(val_set, batch_size=100)[1]*100 , \"%\")\n",
        "print(\"Loss of the model is --> \" , model.evaluate(val_set, batch_size=100)[0])"
      ],
      "execution_count": 50,
      "outputs": [
        {
          "output_type": "stream",
          "text": [
            "21/21 [==============================] - 27s 1s/step - loss: 0.0162 - accuracy: 0.9941\n",
            "Accuracy of the model is -->  99.41205382347107 %\n",
            "21/21 [==============================] - 27s 1s/step - loss: 0.0162 - accuracy: 0.9941\n",
            "Loss of the model is -->  0.0162348710000515\n"
          ],
          "name": "stdout"
        }
      ]
    },
    {
      "cell_type": "code",
      "metadata": {
        "id": "n1tdSlsoFanB",
        "colab": {
          "base_uri": "https://localhost:8080/",
          "height": 295
        },
        "outputId": "ebe871e8-cd7f-4880-ae7a-5867f0e62728"
      },
      "source": [
        "plt.figure(0)\n",
        "plt.plot(history.history['accuracy'], label='training accuracy')\n",
        "plt.plot(history.history['val_accuracy'], label='val accuracy')\n",
        "plt.title('Accuracy')\n",
        "plt.xlabel('epochs')\n",
        "plt.ylabel('accuracy')\n",
        "plt.legend()\n",
        "plt.savefig('Accuracy.png')"
      ],
      "execution_count": 51,
      "outputs": [
        {
          "output_type": "display_data",
          "data": {
            "image/png": "[encoded data removed]",
            "text/plain": [
              "<Figure size 432x288 with 1 Axes>"
            ]
          },
          "metadata": {
            "tags": [],
            "needs_background": "light"
          }
        }
      ]
    },
    {
      "cell_type": "code",
      "metadata": {
        "id": "BqbQ787_FPIB",
        "colab": {
          "base_uri": "https://localhost:8080/",
          "height": 313
        },
        "outputId": "98f28ec0-648c-46f6-9d67-ce3bd9315b86"
      },
      "source": [
        "plt.figure(1)\n",
        "plt.plot(history.history['loss'], label='training loss')\n",
        "plt.plot(history.history['val_loss'], label='val loss')\n",
        "plt.title('Loss')\n",
        "plt.xlabel('epochs')\n",
        "plt.ylabel('loss')\n",
        "plt.legend()\n",
        "plt.savefig('Loss.png')\n",
        "print(\"Saved Model & Graph to disk\")\n"
      ],
      "execution_count": 52,
      "outputs": [
        {
          "output_type": "stream",
          "text": [
            "Saved Model & Graph to disk\n"
          ],
          "name": "stdout"
        },
        {
          "output_type": "display_data",
          "data": {
            "image/png": "[encoded data removed]",
            "text/plain": [
              "<Figure size 432x288 with 1 Axes>"
            ]
          },
          "metadata": {
            "tags": [],
            "needs_background": "light"
          }
        }
      ]
    },
    {
      "cell_type": "markdown",
      "metadata": {
        "id": "PIWtW4v0F0AP"
      },
      "source": [
        "#***Testing the model***"
      ]
    },
    {
      "cell_type": "code",
      "metadata": {
        "id": "127mhqL_F3ZL"
      },
      "source": [
        "from tensorflow.keras.models import model_from_json # used to import model\n",
        "from tensorflow.keras.models import load_model\n",
        "from tensorflow.keras.preprocessing import image# used for preproccesing\n",
        "import os"
      ],
      "execution_count": 53,
      "outputs": []
    },
    {
      "cell_type": "code",
      "metadata": {
        "id": "wkAyUmr9TupE"
      },
      "source": [
        "zip=zipfile.ZipFile('test.zip')\n",
        "zip.extractall()"
      ],
      "execution_count": 41,
      "outputs": []
    },
    {
      "cell_type": "code",
      "metadata": {
        "id": "_V_0ohKZGARf",
        "colab": {
          "base_uri": "https://localhost:8080/"
        },
        "outputId": "c447a5f2-b2d1-4156-80f1-08b1dc7d1005"
      },
      "source": [
        "model=load_model('FRFD.h5')\n",
        "print(\"loaded model from disk\")"
      ],
      "execution_count": 54,
      "outputs": [
        {
          "output_type": "stream",
          "text": [
            "loaded model from disk\n"
          ],
          "name": "stdout"
        }
      ]
    },
    {
      "cell_type": "code",
      "metadata": {
        "id": "8r6tp6-wGFLG"
      },
      "source": [
        "def classify(img_file):\n",
        "    img_name=img_file\n",
        "    test_image=image.load_img(img_name,target_size=(64,64))\n",
        "    test_image=image.img_to_array(test_image)\n",
        "    test_image=np.expand_dims(test_image,axis=0)\n",
        "    result=model.predict(test_image)\n",
        "\n",
        "    if result[0][0]==1:\n",
        "        prediction='Fake Face'\n",
        "        print(\"\\n In this{0}the face is{1}!\".format(img_name,prediction))   \n",
        "    else:\n",
        "        prediction='Real Face'\n",
        "        print(\"\\n In this{0}the face is{1}!\".format(img_name,prediction))"
      ],
      "execution_count": 55,
      "outputs": []
    },
    {
      "cell_type": "code",
      "metadata": {
        "id": "9caCvogaT1i5"
      },
      "source": [
        "cur_path = os.getcwd()\n",
        "path = os.path.join(cur_path,'test/')"
      ],
      "execution_count": 56,
      "outputs": []
    },
    {
      "cell_type": "code",
      "metadata": {
        "colab": {
          "base_uri": "https://localhost:8080/"
        },
        "id": "VVOFgfxIVZJO",
        "outputId": "db6fe71a-cb26-45d9-be45-437f0d125a14"
      },
      "source": [
        "files=[]\n",
        "# r=root,d=directories,f=files\n",
        "for r,d,f in os.walk(path):\n",
        "    for file in f:\n",
        "        if '.jpeg' or '.jpg' or '.png' or '.JPEG' in file:\n",
        "            files.append(os.path.join(r,file))\n",
        "for f in files: \n",
        "    classify(f)"
      ],
      "execution_count": 57,
      "outputs": [
        {
          "output_type": "stream",
          "text": [
            "\n",
            " In this/content/test/5.jpgthe face isFake Face!\n",
            "\n",
            " In this/content/test/3.jpgthe face isFake Face!\n",
            "\n",
            " In this/content/test/1.jpgthe face isFake Face!\n",
            "\n",
            " In this/content/test/0.jpgthe face isReal Face!\n",
            "\n",
            " In this/content/test/4.jpgthe face isReal Face!\n",
            "\n",
            " In this/content/test/2.jpgthe face isReal Face!\n"
          ],
          "name": "stdout"
        }
      ]
    }
  ]
}